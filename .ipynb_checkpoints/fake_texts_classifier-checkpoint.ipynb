{
 "cells": [
  {
   "cell_type": "code",
   "execution_count": 18,
   "metadata": {},
   "outputs": [],
   "source": [
    "import os\n",
    "import string\n",
    "import numpy as np\n",
    "import pandas as pd\n",
    "import tensorflow as tf\n",
    "import matplotlib.pyplot as plt\n",
    "import sklearn as sk\n",
    "from sklearn.model_selection import train_test_split\n",
    "from keras.models import Sequential\n",
    "from keras.layers import Dense\n",
    "from keras.layers.embeddings import Embedding\n",
    "from keras.layers import Flatten\n",
    "from keras.preprocessing import sequence\n",
    "import seaborn as sns\n",
    "import matplotlib.pyplot as plt"
   ]
  },
  {
   "cell_type": "code",
   "execution_count": 19,
   "metadata": {},
   "outputs": [],
   "source": [
    "# reads all .txt files in the path given and adds them to the list\n",
    "def read_files(relative_path, ls):\n",
    "    files = os.listdir(relative_path)\n",
    "    files = list(filter(lambda x: x[-4:] == '.txt', files))\n",
    "\n",
    "    for file in files:\n",
    "        name = relative_path + \"/\" + file\n",
    "        with open(name, 'r') as f:\n",
    "            ls.append(f.read().replace('\\n', ''))\n"
   ]
  },
  {
   "cell_type": "code",
   "execution_count": 20,
   "metadata": {},
   "outputs": [],
   "source": [
    "#reading all data from different data sets\n",
    "fake_data1 = pd.read_csv(\"../data/Fake and real news dataset/Fake.csv\")\n",
    "true_data1 = pd.read_csv(\"../data/Fake and real news dataset/True.csv\")\n",
    "\n",
    "#from another source - obtaining the contents of each .txt file as a string\n",
    "fake_data2 = []\n",
    "true_data2 = []\n",
    "\n",
    "read_files(\"../data/fakeNewsDatasets/fakeNewsDataset/fake\", fake_data2)     \n",
    "read_files(\"../data/fakeNewsDatasets/celebrityDataset/fake\", fake_data2)\n",
    "read_files(\"../data/fakeNewsDatasets/fakeNewsDataset/legit\", true_data2)\n",
    "read_files(\"../data/fakeNewsDatasets/celebrityDataset/legit\", true_data2)\n",
    "\n",
    "\n"
   ]
  },
  {
   "cell_type": "code",
   "execution_count": 33,
   "metadata": {},
   "outputs": [
    {
     "name": "stdout",
     "output_type": "stream",
     "text": [
      "true_data1 (True.csv):\n",
      "<bound method NDFrame.describe of                                                    title  \\\n",
      "0      As U.S. budget fight looms, Republicans flip t...   \n",
      "1      U.S. military to accept transgender recruits o...   \n",
      "2      Senior U.S. Republican senator: 'Let Mr. Muell...   \n",
      "3      FBI Russia probe helped by Australian diplomat...   \n",
      "4      Trump wants Postal Service to charge 'much mor...   \n",
      "...                                                  ...   \n",
      "21412  'Fully committed' NATO backs new U.S. approach...   \n",
      "21413  LexisNexis withdrew two products from Chinese ...   \n",
      "21414  Minsk cultural hub becomes haven from authorities   \n",
      "21415  Vatican upbeat on possibility of Pope Francis ...   \n",
      "21416  Indonesia to buy $1.14 billion worth of Russia...   \n",
      "\n",
      "                                                    text       subject  \\\n",
      "0      WASHINGTON (Reuters) - The head of a conservat...  politicsNews   \n",
      "1      WASHINGTON (Reuters) - Transgender people will...  politicsNews   \n",
      "2      WASHINGTON (Reuters) - The special counsel inv...  politicsNews   \n",
      "3      WASHINGTON (Reuters) - Trump campaign adviser ...  politicsNews   \n",
      "4      SEATTLE/WASHINGTON (Reuters) - President Donal...  politicsNews   \n",
      "...                                                  ...           ...   \n",
      "21412  BRUSSELS (Reuters) - NATO allies on Tuesday we...     worldnews   \n",
      "21413  LONDON (Reuters) - LexisNexis, a provider of l...     worldnews   \n",
      "21414  MINSK (Reuters) - In the shadow of disused Sov...     worldnews   \n",
      "21415  MOSCOW (Reuters) - Vatican Secretary of State ...     worldnews   \n",
      "21416  JAKARTA (Reuters) - Indonesia will buy 11 Sukh...     worldnews   \n",
      "\n",
      "                     date  \n",
      "0      December 31, 2017   \n",
      "1      December 29, 2017   \n",
      "2      December 31, 2017   \n",
      "3      December 30, 2017   \n",
      "4      December 29, 2017   \n",
      "...                   ...  \n",
      "21412    August 22, 2017   \n",
      "21413    August 22, 2017   \n",
      "21414    August 22, 2017   \n",
      "21415    August 22, 2017   \n",
      "21416    August 22, 2017   \n",
      "\n",
      "[21417 rows x 4 columns]>\n",
      "\n",
      "fake_data1 (Fake.csv):\n",
      "<bound method NDFrame.describe of                                                    title  \\\n",
      "0       Donald Trump Sends Out Embarrassing New Year’...   \n",
      "1       Drunk Bragging Trump Staffer Started Russian ...   \n",
      "2       Sheriff David Clarke Becomes An Internet Joke...   \n",
      "3       Trump Is So Obsessed He Even Has Obama’s Name...   \n",
      "4       Pope Francis Just Called Out Donald Trump Dur...   \n",
      "...                                                  ...   \n",
      "23476  McPain: John McCain Furious That Iran Treated ...   \n",
      "23477  JUSTICE? Yahoo Settles E-mail Privacy Class-ac...   \n",
      "23478  Sunnistan: US and Allied ‘Safe Zone’ Plan to T...   \n",
      "23479  How to Blow $700 Million: Al Jazeera America F...   \n",
      "23480  10 U.S. Navy Sailors Held by Iranian Military ...   \n",
      "\n",
      "                                                    text      subject  \\\n",
      "0      Donald Trump just couldn t wish all Americans ...         News   \n",
      "1      House Intelligence Committee Chairman Devin Nu...         News   \n",
      "2      On Friday, it was revealed that former Milwauk...         News   \n",
      "3      On Christmas day, Donald Trump announced that ...         News   \n",
      "4      Pope Francis used his annual Christmas Day mes...         News   \n",
      "...                                                  ...          ...   \n",
      "23476  21st Century Wire says As 21WIRE reported earl...  Middle-east   \n",
      "23477  21st Century Wire says It s a familiar theme. ...  Middle-east   \n",
      "23478  Patrick Henningsen  21st Century WireRemember ...  Middle-east   \n",
      "23479  21st Century Wire says Al Jazeera America will...  Middle-east   \n",
      "23480  21st Century Wire says As 21WIRE predicted in ...  Middle-east   \n",
      "\n",
      "                    date  \n",
      "0      December 31, 2017  \n",
      "1      December 31, 2017  \n",
      "2      December 30, 2017  \n",
      "3      December 29, 2017  \n",
      "4      December 25, 2017  \n",
      "...                  ...  \n",
      "23476   January 16, 2016  \n",
      "23477   January 16, 2016  \n",
      "23478   January 15, 2016  \n",
      "23479   January 14, 2016  \n",
      "23480   January 12, 2016  \n",
      "\n",
      "[23481 rows x 4 columns]>\n",
      "true_data1 has null values: False\n",
      "fake_data1 has null values: False\n"
     ]
    }
   ],
   "source": [
    "#print(\"true_data1 dimensions:\", true_data1.shape)\n",
    "print(\"true_data1 (True.csv):\")\n",
    "print(true_data1.describe)\n",
    "print(\"\")\n",
    "#print(\"fake_data1 dimensions:\", fake_data1.shape)\n",
    "print(\"fake_data1 (Fake.csv):\")\n",
    "print(fake_data1.describe)\n",
    "#print(fake_data1.head())\n",
    "#checking for invalid entries\n",
    "print(\"true_data1 has null values:\", true_data1.isnull().values.any())\n",
    "print(\"fake_data1 has null values:\", fake_data1.isnull().values.any())"
   ]
  },
  {
   "cell_type": "code",
   "execution_count": 5,
   "metadata": {},
   "outputs": [
    {
     "name": "stdout",
     "output_type": "stream",
     "text": [
      "Number of observations in true_data2: 490\n",
      "Number of observations in fake_data2: 490\n"
     ]
    }
   ],
   "source": [
    "print(\"Number of observations in true_data2:\", len(true_data2))\n",
    "print(\"Number of observations in fake_data2:\", len(fake_data2))"
   ]
  },
  {
   "cell_type": "code",
   "execution_count": 6,
   "metadata": {},
   "outputs": [],
   "source": [
    "# creates a bar plot of the counts of the most common words found in a dataset\n",
    "def plot_top_counts(texts, top, plt_title):\n",
    "    #list any irrelevant words that don't need to be considered\n",
    "    unwanted = [ \"to\", \"the\", \"for\", \"in\", \"of\", \"a\", \"and\", \"is\", \"says\", \"with\", \"as\", \"on\", \"at\", \"he\", \"his\", \"about\", \"their\", \"would\", \"which\", \"after\"]\n",
    "    #stores the counts of each work\n",
    "    words = {}\n",
    "    word = \"\"\n",
    "\n",
    "    for text in texts:\n",
    "        text = text.split(\" \")\n",
    "\n",
    "        for word in text:\n",
    "            word = word.strip()\n",
    "            word = word.strip(\",\")\n",
    "            word = word.strip(\".\")\n",
    "            word = word.strip(\"'\")\n",
    "            word = word.strip(\":\")\n",
    "\n",
    "            if word.isalpha() and (word not in unwanted) and len(word) > 4:\n",
    "                if word not in words:\n",
    "                    words[word] = 1\n",
    "                else:\n",
    "                    words[word] += 1\n",
    "\n",
    "    sorted_words = sorted(words.items(), key = lambda x: x[1], reverse = True)\n",
    "    plotting_words = sorted_words[0:top]\n",
    "    words_x = [tup[0] for tup in plotting_words]\n",
    "    counts_y = [tup[1] for tup in plotting_words]\n",
    "\n",
    "    \n",
    "    \n",
    "    plt.bar(range(len(plotting_words)), counts_y)\n",
    "    plt.xticks(range(len(plotting_words)), words_x)\n",
    "    plt.xlabel(\"Words\")\n",
    "    plt.ylabel(\"Counts\")\n",
    "    plt.title(plt_title)\n",
    "    plt.show()\n",
    "\n",
    "\n"
   ]
  },
  {
   "cell_type": "code",
   "execution_count": 7,
   "metadata": {},
   "outputs": [],
   "source": [
    "#creating 4 dataframes - true and false for each dataset\n",
    "is_fake = [1 for x in range(len(fake_data1))]\n",
    "fake_data1 = pd.DataFrame(list(fake_data1['text']), columns=['text'])\n",
    "fake_data1['is_fake'] = is_fake\n",
    "#print(fake_data1.head())\n",
    "\n",
    "is_fake = [0 for x in range(len(true_data1))]\n",
    "true_data1 = pd.DataFrame(list(true_data1['text']), columns=['text'])\n",
    "true_data1['is_fake'] = is_fake\n",
    "#print(true_data1.head())\n",
    "\n",
    "\n",
    "is_fake = [1 for x in range(len(fake_data2))]\n",
    "fake_data2 = pd.DataFrame(fake_data2, columns=['text'])\n",
    "fake_data2['is_fake'] = is_fake\n",
    "\n",
    "is_fake = [0 for x in range(len(true_data2))]\n",
    "true_data2 = pd.DataFrame(true_data2, columns=['text'])\n",
    "true_data2['is_fake'] = is_fake\n",
    "\n",
    "\n"
   ]
  },
  {
   "cell_type": "code",
   "execution_count": 8,
   "metadata": {},
   "outputs": [
    {
     "data": {
      "image/png": "[encoded data removed]",
      "text/plain": [
       "<Figure size 432x288 with 1 Axes>"
      ]
     },
     "metadata": {
      "needs_background": "light"
     },
     "output_type": "display_data"
    },
    {
     "data": {
      "image/png": "[encoded data removed]",
      "text/plain": [
       "<Figure size 432x288 with 1 Axes>"
      ]
     },
     "metadata": {
      "needs_background": "light"
     },
     "output_type": "display_data"
    }
   ],
   "source": [
    "fake_words = list(fake_data1['text']) + list(fake_data2['text'])\n",
    "true_words = list(true_data1['text']) + list(true_data2['text'])\n",
    "plot_top_counts(fake_words, 8, \"Most common words in fake news\")\n",
    "plot_top_counts(true_words, 8, \"Most common words in true news\")"
   ]
  },
  {
   "cell_type": "code",
   "execution_count": 9,
   "metadata": {},
   "outputs": [
    {
     "name": "stdout",
     "output_type": "stream",
     "text": [
      "False\n"
     ]
    }
   ],
   "source": [
    "#joining all data sets\n",
    "frames = [true_data1, fake_data1, fake_data2, true_data2]\n",
    "merged = pd.concat(frames)\n",
    "\n",
    "merged.describe\n",
    "merged = sk.utils.shuffle(merged)\n",
    "print(merged.isnull().values.any())\n",
    "#df.head()"
   ]
  },
  {
   "cell_type": "code",
   "execution_count": 10,
   "metadata": {},
   "outputs": [],
   "source": [
    "#splitting data into training and tests sets\n",
    "split = 0.2\n",
    "train_txts, test_txts, train_res, test_res = train_test_split(merged['text'], merged['is_fake'], test_size=split, random_state=12)"
   ]
  },
  {
   "cell_type": "code",
   "execution_count": 11,
   "metadata": {},
   "outputs": [],
   "source": [
    "#creating a word dictionaries where each word is assigned a unique number \n",
    "n_words = 10000\n",
    "tokenizer = tf.keras.preprocessing.text.Tokenizer(\n",
    "    num_words = n_words, filters='!\"\"#$%&()*+,-./:;<=>?@[\\\\]^_`{|}\\'~\\t\\n.', lower=True,\n",
    "    split=' ', char_level=False,  oov_token=True)\n",
    "\n",
    "tokenizer.fit_on_texts(train_txts)\n",
    "train_seqs = tokenizer.texts_to_sequences(train_txts)\n",
    "\n",
    "max_len = max(len(x) for x in train_seqs)\n",
    "\n",
    "train_seqs = sequence.pad_sequences(train_seqs, maxlen=max_len)\n",
    "test_seqs = tokenizer.texts_to_sequences(test_txts)\n",
    "test_seqs = sequence.pad_sequences(test_seqs, maxlen=max_len)\n"
   ]
  },
  {
   "cell_type": "code",
   "execution_count": 12,
   "metadata": {},
   "outputs": [
    {
     "name": "stdout",
     "output_type": "stream",
     "text": [
      "15404\n",
      "128722\n"
     ]
    }
   ],
   "source": [
    "print(max_len)\n",
    "print(max(tokenizer.word_index.values()))\n"
   ]
  },
  {
   "cell_type": "code",
   "execution_count": 13,
   "metadata": {},
   "outputs": [
    {
     "name": "stdout",
     "output_type": "stream",
     "text": [
      "128723\n",
      "Model: \"sequential\"\n",
      "_________________________________________________________________\n",
      "Layer (type)                 Output Shape              Param #   \n",
      "=================================================================\n",
      "embedding (Embedding)        (None, 15404, 64)         8238272   \n",
      "_________________________________________________________________\n",
      "flatten (Flatten)            (None, 985856)            0         \n",
      "_________________________________________________________________\n",
      "dense (Dense)                (None, 32)                31547424  \n",
      "_________________________________________________________________\n",
      "dense_1 (Dense)              (None, 16)                528       \n",
      "_________________________________________________________________\n",
      "dense_2 (Dense)              (None, 1)                 17        \n",
      "=================================================================\n",
      "Total params: 39,786,241\n",
      "Trainable params: 39,786,241\n",
      "Non-trainable params: 0\n",
      "_________________________________________________________________\n",
      "None\n"
     ]
    }
   ],
   "source": [
    "#building model for analysing titles\n",
    "#experiment with this \n",
    "inp_dim = max(tokenizer.word_index.values()) + 1\n",
    "print(inp_dim)\n",
    "#inp_dim = 5000\n",
    "out_dim = 64\n",
    "\n",
    "model = Sequential()\n",
    "model.add(Embedding(inp_dim, out_dim, input_length=max_len))\n",
    "model.add(Flatten())\n",
    "model.add(Dense(32, activation='relu'))\n",
    "#model.add(Dense(32, activation='relu'))\n",
    "#model.add(Dense(16, activation='relu'))\n",
    "model.add(Dense(16, activation='relu'))\n",
    "model.add(Dense(1, activation='sigmoid'))\n",
    "model.compile(loss='binary_crossentropy',optimizer='adam', metrics=['accuracy'])\n",
    "print(model.summary())"
   ]
  },
  {
   "cell_type": "code",
   "execution_count": 14,
   "metadata": {},
   "outputs": [
    {
     "name": "stdout",
     "output_type": "stream",
     "text": [
      "Epoch 1/3\n",
      "19/19 [==============================] - 400s 21s/step - loss: 2.0357 - accuracy: 0.5112 - val_loss: 0.7422 - val_accuracy: 0.4852\n",
      "Epoch 2/3\n",
      "19/19 [==============================] - 402s 21s/step - loss: 0.7168 - accuracy: 0.5754 - val_loss: 0.5552 - val_accuracy: 0.8359\n",
      "Epoch 3/3\n",
      "19/19 [==============================] - 384s 20s/step - loss: 0.4370 - accuracy: 0.8610 - val_loss: 0.3065 - val_accuracy: 0.8979\n"
     ]
    }
   ],
   "source": [
    "hist = model.fit(train_seqs, train_res, validation_data=(test_seqs, test_res), epochs=3, batch_size=2000)"
   ]
  },
  {
   "cell_type": "code",
   "execution_count": 15,
   "metadata": {},
   "outputs": [
    {
     "name": "stdout",
     "output_type": "stream",
     "text": [
      "Accuracy: 89.79%\n"
     ]
    },
    {
     "data": {
      "image/png": "[encoded data removed]",
      "text/plain": [
       "<Figure size 432x288 with 1 Axes>"
      ]
     },
     "metadata": {},
     "output_type": "display_data"
    }
   ],
   "source": [
    "sns.set()\n",
    "acc = hist.history['accuracy']\n",
    "val = hist.history['val_accuracy']\n",
    "epochs = range(1, len(acc) + 1)\n",
    "\n",
    "plt.plot(epochs, acc, '-', label='Training accuracy')\n",
    "plt.plot(epochs, val, ':', label='Validation accuracy')\n",
    "plt.title('Training and Validation Accuracy')\n",
    "plt.xlabel('Epoch')\n",
    "plt.ylabel('Accuracy')\n",
    "plt.legend(loc='upper left')\n",
    "plt.plot()\n",
    "\n",
    "scores = model.evaluate(test_seqs, test_res, verbose=0)\n",
    "print(\"Accuracy: %.2f%%\" % (scores[1] * 100))"
   ]
  },
  {
   "cell_type": "markdown",
   "metadata": {},
   "source": [
    "add comment about training and validation accuracy "
   ]
  },
  {
   "cell_type": "code",
   "execution_count": 16,
   "metadata": {},
   "outputs": [],
   "source": [
    "#Returns a number between 0 and 1, determining how trustworthy the text is\n",
    "#this function is similar to the first section of Microsoft's website:\n",
    "#https://docs.microsoft.com/en-gb/learn/modules/analyze-review-sentiment-with-keras/3-use-neural-network-to-analyze-text-for-sentiment\n",
    "def predict_text(model, word_dict, max_seq_len, text):\n",
    "    # Transforming the text into an array of words which \n",
    "    # are all lower case, do not have have any punctuation marks    \n",
    "    translator = str.maketrans('', '', string.punctuation)\n",
    "    text = text.translate(translator)\n",
    "    text = text.lower().split(' ')\n",
    "    text = [word for word in text if word.isalpha()]\n",
    "    \n",
    "    #Creating a padded input tensor to feed into the model\n",
    "    inp_dim = max(word_dict.values()) + 1\n",
    "    input = [1]\n",
    "    \n",
    "    for word in text:\n",
    "        if word in word_dict and word_dict[word] < inp_dim:\n",
    "            input.append(word_dict[word])\n",
    "        else:\n",
    "            input.append(2)\n",
    "            \n",
    "    padded_input = sequence.pad_sequences([input], maxlen=max_seq_len)\n",
    "    #print(len(padded_input[0]))\n",
    "    #print(padded_input[0])\n",
    "\n",
    "    result = model.predict(np.array([padded_input][0]))[0][0]\n",
    "\n",
    "    return result\n",
    "    \n",
    "    "
   ]
  },
  {
   "cell_type": "code",
   "execution_count": 34,
   "metadata": {},
   "outputs": [
    {
     "name": "stdout",
     "output_type": "stream",
     "text": [
      "0.30025053\n",
      "0.3140646\n",
      "0.69603306\n",
      "0.92686504\n"
     ]
    }
   ],
   "source": [
    "text1 = \" BrewDog threatened lawsuit against plan for bar with 'punk' in name BrewDog threatened legal action to prevent a bar from using the term punk in its name  it has emerged  a day after the brewer blamed trigger-happy lawyers for a similar dispute that sparked a social media backlash. The brewer  which has been a vocal critic of the behaviour of large corporations  raised an objection to plans by music promoter Tony Green to open a bar in Leeds called Draft Punk. Green  who says the name was a tongue-in-cheek reference to French dance music act Daft Punk  said the intimidating threat contravened the punk movement spirit that BrewDog claims to espouse.\"\n",
    "text2 = \"Despite the introduction of new taxi laws in Denmark the Uber has said this is not a setback for the US ride-booking service in Eurpoe. A company spokesman Kristian Agerbo said on Tuesday Uber must take the consequences of the rules, which among other things will require cabs to be fitted with seat occupancy sensors and fare meters, and pass it on to the drivers. Uber ordered a new fleet of self-driving cars following Arizona crash to be created and tested to comply with these new laws. Uber has not faced problems in cities like Madrid Frankfurt Paris and London has long been lauded as the transportations service of the digital age. They plan to mass produce these new sensors and meters and offer them to their drivers on a rental basis to add to their profit lines. Depending on success they may be made available to other driving companies as well.\"\n",
    "text3 = \"House Intelligence Committee Chairman Devin Nunes is going to have a bad day. He s been under the assumption, like many of us, that the Christopher Steele-dossier was what prompted the Russia investigation so he s been lashing out at the Department of Justice and the FBI in order to protect Trump. As it happens, the dossier is not what started the investigation, according to documents obtained by the New York Times.Former Trump campaign adviser George Papadopoulos was drunk in a wine bar when he revealed knowledge of Russian opposition research on Hillary Clinton.On top of that, Papadopoulos wasn t just a covfefe boy for Trump, as his administration has alleged. He had a much larger role, but none so damning as being a drunken fool in a wine bar. Coffee boys  don t help to arrange a New York meeting between Trump and President Abdel Fattah el-Sisi of Egypt two months before the election. It was known before that the former aide set up meetings with world leaders for Trump, but team Trump ran with him being merely a coffee boy.In May 2016, Papadopoulos revealed to Australian diplomat Alexander Downer that Russian officials were shopping around possible dirt on then-Democratic presidential nominee Hillary Clinton. Exactly how much Mr. Papadopoulos said that night at the Kensington Wine Rooms with the Australian, Alexander Downer, is unclear,  the report states.  But two months later, when leaked Democratic emails began appearing online, Australian officials passed the information about Mr. Papadopoulos to their American counterparts, according to four current and former American and foreign officials with direct knowledge of the Australians  role. Papadopoulos pleaded guilty to lying to the F.B.I. and is now a cooperating witness with Special Counsel Robert Mueller s team.This isn t a presidency. It s a badly scripted reality TV show.Photo by Win McNamee/Getty Images.\"\n",
    "text4 = \"On Christmas day, Donald Trump announced that he would  be back to work  the following day, but he is golfing for the fourth day in a row. The former reality show star blasted former President Barack Obama for playing golf and now Trump is on track to outpace the number of golf games his predecessor played.Updated my tracker of Trump s appearances at Trump properties.71 rounds of golf including today s. At this pace, he ll pass Obama s first-term total by July 24 next year. https://t.co/Fg7VacxRtJ pic.twitter.com/5gEMcjQTbH  Philip Bump (@pbump) December 29, 2017 That makes what a Washington Post reporter discovered on Trump s website really weird, but everything about this administration is bizarre AF. The coding contained a reference to Obama and golf:  Unlike Obama, we are working to fix the problem   and not on the golf course.  However, the coding wasn t done correctly.The website of Donald Trump, who has spent several days in a row at the golf course, is coded to serve up the following message in the event of an internal server error: https://t.co/zrWpyMXRcz pic.twitter.com/wiQSQNNzw0  Christopher Ingraham (@_cingraham) December 28, 2017That snippet of code appears to be on all https://t.co/dkhw0AlHB4 pages, which the footer says is paid for by the RNC? pic.twitter.com/oaZDT126B3  Christopher Ingraham (@_cingraham) December 28, 2017It s also all over https://t.co/ayBlGmk65Z. As others have noted in this thread, this is weird code and it s not clear it would ever actually display, but who knows.  Christopher Ingraham (@_cingraham) December 28, 2017After the coding was called out, the reference to Obama was deleted.UPDATE: The golf error message has been removed from the Trump and GOP websites. They also fixed the javascript  =  vs  ==  problem. Still not clear when these messages would actually display, since the actual 404 (and presumably 500) page displays a different message pic.twitter.com/Z7dmyQ5smy  Christopher Ingraham (@_cingraham) December 29, 2017That suggests someone at either RNC or the Trump admin is sensitive enough to Trump s golf problem to make this issue go away quickly once people noticed. You have no idea how much I d love to see the email exchange that led us here.  Christopher Ingraham (@_cingraham) December 29, 2017 The code was f-cked up.The best part about this is that they are using the  =  (assignment) operator which means that bit of code will never get run. If you look a few lines up  errorCode  will always be  404          (@tw1trsux) December 28, 2017trump s coders can t code. Nobody is surprised.  Tim Peterson (@timrpeterson) December 28, 2017Donald Trump is obsessed with Obama that his name was even in the coding of his website while he played golf again.Photo by Joe Raedle/Getty Images.\"\n",
    "print(predict_text(model, tokenizer.word_index, max_len, text1))\n",
    "print(predict_text(model, tokenizer.word_index, max_len, text2))\n",
    "print(predict_text(model, tokenizer.word_index, max_len, text3))\n",
    "print(predict_text(model, tokenizer.word_index, max_len, text4))"
   ]
  },
  {
   "cell_type": "code",
   "execution_count": null,
   "metadata": {},
   "outputs": [],
   "source": []
  }
 ],
 "metadata": {
  "kernelspec": {
   "display_name": "Python 3",
   "language": "python",
   "name": "python3"
  },
  "language_info": {
   "codemirror_mode": {
    "name": "ipython",
    "version": 3
   },
   "file_extension": ".py",
   "mimetype": "text/x-python",
   "name": "python",
   "nbconvert_exporter": "python",
   "pygments_lexer": "ipython3",
   "version": "3.6.9"
  }
 },
 "nbformat": 4,
 "nbformat_minor": 4
}
