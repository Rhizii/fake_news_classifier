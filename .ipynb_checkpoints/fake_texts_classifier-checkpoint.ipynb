{
 "cells": [
  {
   "cell_type": "code",
   "execution_count": 1,
   "metadata": {},
   "outputs": [
    {
     "name": "stderr",
     "output_type": "stream",
     "text": [
      "Using TensorFlow backend.\n"
     ]
    }
   ],
   "source": [
    "import os\n",
    "import numpy as np\n",
    "import pandas as pd\n",
    "import tensorflow as tf\n",
    "import matplotlib.pyplot as plt\n",
    "import sklearn as sk\n",
    "from sklearn.model_selection import train_test_split\n",
    "from keras.models import Sequential\n",
    "from keras.layers import Dense\n",
    "from keras.layers.embeddings import Embedding\n",
    "from keras.layers import Flatten\n",
    "from keras.preprocessing import sequence\n",
    "import seaborn as sns\n",
    "import matplotlib.pyplot as plt"
   ]
  },
  {
   "cell_type": "code",
   "execution_count": 2,
   "metadata": {},
   "outputs": [],
   "source": [
    "# reads all .txt files in the path given and adds them to the list\n",
    "def read_files(relative_path, ls):\n",
    "    files = os.listdir(relative_path)\n",
    "    files = list(filter(lambda x: x[-4:] == '.txt', files))\n",
    "\n",
    "    for file in files:\n",
    "        name = relative_path + \"/\" + file\n",
    "        with open(name, 'r') as f:\n",
    "            ls.append(f.read().replace('\\n', ''))\n"
   ]
  },
  {
   "cell_type": "code",
   "execution_count": 3,
   "metadata": {},
   "outputs": [],
   "source": [
    "#reading all data from different data sets\n",
    "fake_data1 = pd.read_csv(\"../data/Fake and real news dataset/Fake.csv\")\n",
    "true_data1 = pd.read_csv(\"../data/Fake and real news dataset/True.csv\")\n",
    "\n",
    "#from another source - obtaining the contents of each .txt file as a string\n",
    "fake_data2 = []\n",
    "true_data2 = []\n",
    "\n",
    "read_files(\"../data/fakeNewsDatasets/fakeNewsDataset/fake\", fake_data2)     \n",
    "read_files(\"../data/fakeNewsDatasets/celebrityDataset/fake\", fake_data2)\n",
    "read_files(\"../data/fakeNewsDatasets/fakeNewsDataset/legit\", true_data2)\n",
    "read_files(\"../data/fakeNewsDatasets/celebrityDataset/legit\", true_data2)\n",
    "\n",
    "\n"
   ]
  },
  {
   "cell_type": "code",
   "execution_count": 4,
   "metadata": {},
   "outputs": [
    {
     "name": "stdout",
     "output_type": "stream",
     "text": [
      "true_data1 dimensions: (21417, 4)\n",
      "fake_data1 dimensions: (23481, 4)\n",
      "true_data1 has null values: False\n",
      "fake_data1 has null values: False\n"
     ]
    }
   ],
   "source": [
    "print(\"true_data1 dimensions:\", true_data1.shape)\n",
    "#true_data1.head()\n",
    "print(\"fake_data1 dimensions:\", fake_data1.shape)\n",
    "#fake_data1.head()\n",
    "#checking for invalid entries\n",
    "print(\"true_data1 has null values:\", true_data1.isnull().values.any())\n",
    "print(\"fake_data1 has null values:\", fake_data1.isnull().values.any())"
   ]
  },
  {
   "cell_type": "code",
   "execution_count": 5,
   "metadata": {},
   "outputs": [
    {
     "name": "stdout",
     "output_type": "stream",
     "text": [
      "Number of observations in true_data2: 490\n",
      "Number of observations in fake_data2: 490\n"
     ]
    }
   ],
   "source": [
    "print(\"Number of observations in true_data2:\", len(true_data2))\n",
    "print(\"Number of observations in fake_data2:\", len(fake_data2))"
   ]
  },
  {
   "cell_type": "code",
   "execution_count": 6,
   "metadata": {},
   "outputs": [],
   "source": [
    "def plot_top_counts(titles, top, plt_title):\n",
    "    unwanted = [ \"to\", \"the\", \"for\", \"in\", \"of\", \"a\", \"and\", \"is\", \"says\", \"with\", \"as\", \"on\", \"at\", \"he\", \"his\"]\n",
    "    title_words = {}\n",
    "    word = \"\"\n",
    "\n",
    "    for title in titles:\n",
    "        title = title.split(\" \")\n",
    "\n",
    "        for word in title:\n",
    "            word = word.strip()\n",
    "            word = word.strip(\",\")\n",
    "            word = word.strip(\".\")\n",
    "            word = word.strip(\"'\")\n",
    "            word = word.strip(\":\")\n",
    "\n",
    "            if word.isalpha() and (word not in unwanted) and len(word) > 4:\n",
    "                if word not in title_words:\n",
    "                    title_words[word] = 1\n",
    "                else:\n",
    "                    title_words[word] += 1\n",
    "\n",
    "    sorted_words = sorted(title_words.items(), key = lambda x: x[1], reverse = True)\n",
    "    plotting_words = sorted_words[0:top]\n",
    "    words_x = [tup[0] for tup in plotting_words]\n",
    "    counts_y = [tup[1] for tup in plotting_words]\n",
    "\n",
    "    \n",
    "    \n",
    "    plt.bar(range(len(plotting_words)), counts_y)\n",
    "    plt.xticks(range(len(plotting_words)), words_x)\n",
    "    plt.xlabel(\"Words\")\n",
    "    plt.ylabel(\"Counts\")\n",
    "    plt.title(plt_title)\n",
    "    plt.show()\n",
    "\n",
    "\n"
   ]
  },
  {
   "cell_type": "code",
   "execution_count": 7,
   "metadata": {},
   "outputs": [],
   "source": [
    "#creating dataframes\n",
    "is_fake = [1 for x in range(len(fake_data1))]\n",
    "fake_data1 = pd.DataFrame(list(fake_data1['text']), columns=['text'])\n",
    "fake_data1['is_fake'] = is_fake\n",
    "#print(fake_data1.head())\n",
    "\n",
    "is_fake = [0 for x in range(len(true_data1))]\n",
    "true_data1 = pd.DataFrame(list(true_data1['text']), columns=['text'])\n",
    "true_data1['is_fake'] = is_fake\n",
    "#print(true_data1.head())\n",
    "\n",
    "\n",
    "is_fake = [1 for x in range(len(fake_data2))]\n",
    "fake_data2 = pd.DataFrame(fake_data2, columns=['text'])\n",
    "fake_data2['is_fake'] = is_fake\n",
    "\n",
    "is_fake = [0 for x in range(len(true_data2))]\n",
    "true_data2 = pd.DataFrame(true_data2, columns=['text'])\n",
    "true_data2['is_fake'] = is_fake\n",
    "\n",
    "\n"
   ]
  },
  {
   "cell_type": "code",
   "execution_count": 8,
   "metadata": {},
   "outputs": [
    {
     "data": {
      "image/png": "[encoded data removed]",
      "text/plain": [
       "<Figure size 432x288 with 1 Axes>"
      ]
     },
     "metadata": {
      "needs_background": "light"
     },
     "output_type": "display_data"
    },
    {
     "data": {
      "image/png": "[encoded data removed]",
      "text/plain": [
       "<Figure size 432x288 with 1 Axes>"
      ]
     },
     "metadata": {
      "needs_background": "light"
     },
     "output_type": "display_data"
    }
   ],
   "source": [
    "fake_words = list(fake_data1['text']) + list(fake_data2['text'])\n",
    "true_words = list(true_data1['text']) + list(true_data2['text'])\n",
    "plot_top_counts(fake_words, 8, \"Most common words in fake news\")\n",
    "plot_top_counts(true_words, 8, \"Most common words in true news\")"
   ]
  },
  {
   "cell_type": "code",
   "execution_count": 9,
   "metadata": {},
   "outputs": [
    {
     "name": "stdout",
     "output_type": "stream",
     "text": [
      "False\n"
     ]
    }
   ],
   "source": [
    "#joining all data sets\n",
    "frames = [true_data1, fake_data1, fake_data2, true_data2]\n",
    "merged = pd.concat(frames)\n",
    "\n",
    "merged.describe\n",
    "merged = sk.utils.shuffle(merged)\n",
    "print(merged.isnull().values.any())\n",
    "#df.head()"
   ]
  },
  {
   "cell_type": "code",
   "execution_count": 10,
   "metadata": {},
   "outputs": [],
   "source": [
    "#splitting data into training and tests sets\n",
    "split = 0.2\n",
    "train_txts, test_txts, train_res, test_res = train_test_split(merged['text'], merged['is_fake'], test_size=split, random_state=12)"
   ]
  },
  {
   "cell_type": "code",
   "execution_count": 11,
   "metadata": {},
   "outputs": [],
   "source": [
    "#creating a word dictionaries where each word is assigned a unique number \n",
    "n_words = 10000\n",
    "tokenizer = tf.keras.preprocessing.text.Tokenizer(\n",
    "    num_words = n_words, filters='!\"\"#$%&()*+,-./:;<=>?@[\\\\]^_`{|}\\'~\\t\\n.', lower=True,\n",
    "    split=' ', char_level=False,  oov_token=True)\n",
    "\n",
    "tokenizer.fit_on_texts(train_txts)\n",
    "train_seqs = tokenizer.texts_to_sequences(train_txts)\n",
    "\n",
    "max_len = max(len(x) for x in train_seqs)\n",
    "\n",
    "train_seqs = sequence.pad_sequences(train_seqs, maxlen=max_len)\n",
    "test_seqs = tokenizer.texts_to_sequences(test_txts)\n",
    "test_seqs = sequence.pad_sequences(test_seqs, maxlen=max_len)\n"
   ]
  },
  {
   "cell_type": "code",
   "execution_count": 12,
   "metadata": {},
   "outputs": [
    {
     "name": "stdout",
     "output_type": "stream",
     "text": [
      "15404\n",
      "128595\n"
     ]
    }
   ],
   "source": [
    "print(max_len)\n",
    "print(max(tokenizer.word_index.values()))"
   ]
  },
  {
   "cell_type": "code",
   "execution_count": 13,
   "metadata": {},
   "outputs": [
    {
     "name": "stdout",
     "output_type": "stream",
     "text": [
      "Model: \"sequential\"\n",
      "_________________________________________________________________\n",
      "Layer (type)                 Output Shape              Param #   \n",
      "=================================================================\n",
      "embedding (Embedding)        (None, 15404, 64)         8230144   \n",
      "_________________________________________________________________\n",
      "flatten (Flatten)            (None, 985856)            0         \n",
      "_________________________________________________________________\n",
      "dense (Dense)                (None, 32)                31547424  \n",
      "_________________________________________________________________\n",
      "dense_1 (Dense)              (None, 32)                1056      \n",
      "_________________________________________________________________\n",
      "dense_2 (Dense)              (None, 16)                528       \n",
      "_________________________________________________________________\n",
      "dense_3 (Dense)              (None, 16)                272       \n",
      "_________________________________________________________________\n",
      "dense_4 (Dense)              (None, 1)                 17        \n",
      "=================================================================\n",
      "Total params: 39,779,441\n",
      "Trainable params: 39,779,441\n",
      "Non-trainable params: 0\n",
      "_________________________________________________________________\n",
      "None\n"
     ]
    }
   ],
   "source": [
    "#building model for analysing titles\n",
    "#experiment with this \n",
    "inp_dim = max(tokenizer.word_index.values()) + 1\n",
    "#inp_dim = 5000\n",
    "out_dim = 64\n",
    "\n",
    "model = Sequential()\n",
    "model.add(Embedding(inp_dim, out_dim, input_length=max_len))\n",
    "model.add(Flatten())\n",
    "model.add(Dense(32, activation='relu'))\n",
    "model.add(Dense(32, activation='relu'))\n",
    "model.add(Dense(16, activation='relu'))\n",
    "model.add(Dense(16, activation='relu'))\n",
    "model.add(Dense(1, activation='sigmoid'))\n",
    "model.compile(loss='binary_crossentropy',optimizer='adam', metrics=['accuracy'])\n",
    "print(model.summary())"
   ]
  },
  {
   "cell_type": "code",
   "execution_count": 14,
   "metadata": {},
   "outputs": [
    {
     "name": "stdout",
     "output_type": "stream",
     "text": [
      "Epoch 1/3\n",
      "19/19 [==============================] - 377s 20s/step - loss: 1.1752 - accuracy: 0.5068 - val_loss: 0.8569 - val_accuracy: 0.5210\n",
      "Epoch 2/3\n",
      "19/19 [==============================] - 389s 20s/step - loss: 0.6311 - accuracy: 0.6480 - val_loss: 0.4903 - val_accuracy: 0.8611\n",
      "Epoch 3/3\n",
      "19/19 [==============================] - 375s 20s/step - loss: 0.3589 - accuracy: 0.9060 - val_loss: 0.2402 - val_accuracy: 0.9397\n"
     ]
    }
   ],
   "source": [
    "hist = model.fit(train_seqs, train_res, validation_data=(test_seqs, test_res), epochs=3, batch_size=2000)"
   ]
  },
  {
   "cell_type": "code",
   "execution_count": 16,
   "metadata": {},
   "outputs": [
    {
     "name": "stdout",
     "output_type": "stream",
     "text": [
      "Accuracy: 93.97%\n"
     ]
    },
    {
     "data": {
      "image/png": "[encoded data removed]",
      "text/plain": [
       "<Figure size 432x288 with 1 Axes>"
      ]
     },
     "metadata": {},
     "output_type": "display_data"
    }
   ],
   "source": [
    "sns.set()\n",
    "acc = hist.history['accuracy']\n",
    "val = hist.history['val_accuracy']\n",
    "epochs = range(1, len(acc) + 1)\n",
    "\n",
    "plt.plot(epochs, acc, '-', label='Training accuracy')\n",
    "plt.plot(epochs, val, ':', label='Validation accuracy')\n",
    "plt.title('Training and Validation Accuracy')\n",
    "plt.xlabel('Epoch')\n",
    "plt.ylabel('Accuracy')\n",
    "plt.legend(loc='upper left')\n",
    "plt.plot()\n",
    "\n",
    "scores = model.evaluate(test_seqs, test_res, verbose=0)\n",
    "print(\"Accuracy: %.2f%%\" % (scores[1] * 100))"
   ]
  },
  {
   "cell_type": "markdown",
   "metadata": {},
   "source": [
    "add comment about training and validation accuracy "
   ]
  }
 ],
 "metadata": {
  "kernelspec": {
   "display_name": "Python 3",
   "language": "python",
   "name": "python3"
  },
  "language_info": {
   "codemirror_mode": {
    "name": "ipython",
    "version": 3
   },
   "file_extension": ".py",
   "mimetype": "text/x-python",
   "name": "python",
   "nbconvert_exporter": "python",
   "pygments_lexer": "ipython3",
   "version": "3.6.9"
  }
 },
 "nbformat": 4,
 "nbformat_minor": 4
}
