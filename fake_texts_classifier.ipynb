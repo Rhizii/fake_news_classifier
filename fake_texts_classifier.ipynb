{
 "cells": [
  {
   "cell_type": "code",
   "execution_count": 74,
   "metadata": {},
   "outputs": [],
   "source": [
    "import os\n",
    "import numpy as np\n",
    "import pandas as pd\n",
    "import tensorflow as tf\n",
    "import matplotlib.pyplot as plt\n",
    "import sklearn as sk\n",
    "from sklearn.model_selection import train_test_split\n",
    "from keras.models import Sequential\n",
    "from keras.layers import Dense\n",
    "from keras.layers.embeddings import Embedding\n",
    "from keras.layers import Flatten\n",
    "from keras.preprocessing import sequence\n",
    "import seaborn as sns\n",
    "import matplotlib.pyplot as plt"
   ]
  },
  {
   "cell_type": "code",
   "execution_count": 75,
   "metadata": {},
   "outputs": [],
   "source": [
    "# reads all .txt files in the path given and adds them to the list\n",
    "def read_files(relative_path, ls):\n",
    "    files = os.listdir(relative_path)\n",
    "    files = list(filter(lambda x: x[-4:] == '.txt', files))\n",
    "\n",
    "    for file in files:\n",
    "        name = relative_path + \"/\" + file\n",
    "        with open(name, 'r') as f:\n",
    "            ls.append(f.read().replace('\\n', ''))\n"
   ]
  },
  {
   "cell_type": "code",
   "execution_count": 95,
   "metadata": {},
   "outputs": [],
   "source": [
    "#reading all data from different data sets\n",
    "fake_data1 = pd.read_csv(\"../data/Fake and real news dataset/Fake.csv\")\n",
    "true_data1 = pd.read_csv(\"../data/Fake and real news dataset/True.csv\")\n",
    "\n",
    "#from another source - obtaining the contents of each .txt file as a string\n",
    "fake_data2 = []\n",
    "true_data2 = []\n",
    "\n",
    "read_files(\"../data/fakeNewsDatasets/fakeNewsDataset/fake\", fake_data2)     \n",
    "read_files(\"../data/fakeNewsDatasets/celebrityDataset/fake\", fake_data2)\n",
    "read_files(\"../data/fakeNewsDatasets/fakeNewsDataset/legit\", true_data2)\n",
    "read_files(\"../data/fakeNewsDatasets/celebrityDataset/legit\", true_data2)\n",
    "\n",
    "\n"
   ]
  },
  {
   "cell_type": "code",
   "execution_count": 100,
   "metadata": {},
   "outputs": [
    {
     "name": "stdout",
     "output_type": "stream",
     "text": [
      "False\n",
      "False\n"
     ]
    }
   ],
   "source": [
    "#fake_data1.head()\n",
    "#true_data1.head()\n",
    "print(true_data1.isnull().values.any())\n",
    "print(fake_data1.isnull().values.any())"
   ]
  },
  {
   "cell_type": "code",
   "execution_count": 103,
   "metadata": {},
   "outputs": [
    {
     "name": "stdout",
     "output_type": "stream",
     "text": [
      "False\n"
     ]
    }
   ],
   "source": [
    "#creating and merging dataframes/lists into 1 data frame\n",
    "is_fake = [1 for x in range(len(fake_data1))]\n",
    "fake_data1 = pd.DataFrame(list(fake_data1['text']), columns=['text'])\n",
    "fake_data1['is_fake'] = is_fake\n",
    "#print(fake_data1.head())\n",
    "\n",
    "is_fake = [0 for x in range(len(true_data1))]\n",
    "true_data1 = pd.DataFrame(list(true_data1['text']), columns=['text'])\n",
    "true_data1['is_fake'] = is_fake\n",
    "#print(true_data1.head())\n",
    "\n",
    "\n",
    "is_fake = [1 for x in range(len(fake_data2))]\n",
    "fake_data2 = pd.DataFrame(fake_data2, columns=['text'])\n",
    "fake_data2['is_fake'] = is_fake\n",
    "\n",
    "is_fake = [0 for x in range(len(true_data2))]\n",
    "true_data2 = pd.DataFrame(true_data2, columns=['text'])\n",
    "true_data2['is_fake'] = is_fake\n",
    "\n",
    "\n",
    "#joining all data sets\n",
    "frames = [true_data1, fake_data1, fake_data2, true_data2]\n",
    "merged = pd.concat(frames)\n",
    "\n",
    "merged.describe\n",
    "merged = sk.utils.shuffle(merged)\n",
    "print(merged.isnull().values.any())\n",
    "#df.head()"
   ]
  },
  {
   "cell_type": "code",
   "execution_count": 105,
   "metadata": {},
   "outputs": [],
   "source": [
    "#splitting data into training and tests sets\n",
    "split = 0.2\n",
    "train_txts, test_txts, train_res, test_res = train_test_split(merged['text'], merged['is_fake'], test_size=split, random_state=12)"
   ]
  },
  {
   "cell_type": "code",
   "execution_count": null,
   "metadata": {},
   "outputs": [],
   "source": []
  }
 ],
 "metadata": {
  "kernelspec": {
   "display_name": "Python 3",
   "language": "python",
   "name": "python3"
  },
  "language_info": {
   "codemirror_mode": {
    "name": "ipython",
    "version": 3
   },
   "file_extension": ".py",
   "mimetype": "text/x-python",
   "name": "python",
   "nbconvert_exporter": "python",
   "pygments_lexer": "ipython3",
   "version": "3.7.7"
  }
 },
 "nbformat": 4,
 "nbformat_minor": 4
}
